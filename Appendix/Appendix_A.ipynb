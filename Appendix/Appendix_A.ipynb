{
  "nbformat": 4,
  "nbformat_minor": 0,
  "metadata": {
    "colab": {
      "provenance": [],
      "authorship_tag": "ABX9TyN3Hyex9YW/LH17wZLc3Aqv",
      "include_colab_link": true
    },
    "kernelspec": {
      "name": "python3",
      "display_name": "Python 3"
    },
    "language_info": {
      "name": "python"
    }
  },
  "cells": [
    {
      "cell_type": "markdown",
      "metadata": {
        "id": "view-in-github",
        "colab_type": "text"
      },
      "source": [
        "<a href=\"https://colab.research.google.com/github/vpagonis/Classical_Mechanics_2nd_Edition/blob/main/Appendix/Appendix_A.ipynb\" target=\"_parent\"><img src=\"https://colab.research.google.com/assets/colab-badge.svg\" alt=\"Open In Colab\"/></a>"
      ]
    },
    {
      "cell_type": "markdown",
      "source": [
        "# Example A.1"
      ],
      "metadata": {
        "id": "DO-alANRDuvn"
      }
    },
    {
      "cell_type": "code",
      "source": [
        "%reset -f\n",
        "\n",
        "#define variables\n",
        "a, b, c, d = 0.00007, 1.64e-4, 10, complex(3,4)\n",
        "e = 'time'\n",
        "\n",
        "print('-'*28,'CODE OUTPUT','-'*29)\n",
        "\n",
        "print('Variable a = 0.0003 belongs to type:',type(a))\n",
        "print('Variable b = 1.64e-4 belongs to type:',type(b))\n",
        "print('Variable c = 10 belongs to type:',type(c),'\\n')\n",
        "\n",
        "print('A complex number created with complex(3,4)=',d)\n",
        "print('Variable d = complex(3,4) belongs to type:',type(d),'\\n')\n",
        "\n",
        "print(\"Variable e = 'time' belongs to type:\",type(e))\n"
      ],
      "metadata": {
        "colab": {
          "base_uri": "https://localhost:8080/"
        },
        "id": "uCMMrjVnD2N5",
        "outputId": "5e1c88b4-5581-48e8-da45-68e5ac201464"
      },
      "execution_count": 1,
      "outputs": [
        {
          "output_type": "stream",
          "name": "stdout",
          "text": [
            "---------------------------- CODE OUTPUT -----------------------------\n",
            "Variable a = 0.0003 belongs to type: <class 'float'>\n",
            "Variable b = 1.64e-4 belongs to type: <class 'float'>\n",
            "Variable c = 10 belongs to type: <class 'int'> \n",
            "\n",
            "A complex number created with complex(3,4)= (3+4j)\n",
            "Variable d = complex(3,4) belongs to type: <class 'complex'> \n",
            "\n",
            "Variable e = 'time' belongs to type: <class 'str'>\n"
          ]
        }
      ]
    },
    {
      "cell_type": "markdown",
      "source": [
        "# Example A.2"
      ],
      "metadata": {
        "id": "A6i88W5PD7of"
      }
    },
    {
      "cell_type": "code",
      "execution_count": 2,
      "metadata": {
        "colab": {
          "base_uri": "https://localhost:8080/"
        },
        "id": "H4agYjGaDpRW",
        "outputId": "c4461b59-ab3d-4dfd-e4cd-b966be7317da"
      },
      "outputs": [
        {
          "output_type": "stream",
          "name": "stdout",
          "text": [
            "---------------------------- CODE OUTPUT ----------------------------- \n",
            "\n",
            "Without formatting, the variable a=1.6666666666666667 \n",
            "\n",
            "Using scientific notation, the variable a=1.67e+00\n",
            "Without formatting, the square of variable a is 2.777777777777778\n",
            "Using generic notation, the square of variable a is 2.77778 \n",
            "\n",
            "Using two decimals, the variable b=1.645 is      1.65\n",
            "\n",
            "round(a,2) produces  1.67\n",
            "round(b,1) produces  1.6\n"
          ]
        }
      ],
      "source": [
        "%reset -f\n",
        "\n",
        "a = 5.0/3\t                 #define variables\n",
        "b = 1.645\n",
        "\n",
        "print('-'*28,'CODE OUTPUT','-'*29,'\\n')\n",
        "\n",
        "print(f'Without formatting, the variable a={a}','\\n')\n",
        "print(f'Using scientific notation, the variable a={a:.2e}')\n",
        "\n",
        "print(f'Without formatting, the square of variable a is {a**2}')\n",
        "print(f'Using generic notation, the square of variable a is \\\n",
        "{a**2:g}','\\n')\n",
        "\n",
        "print(f'Using two decimals, the variable b=1.645 is      {b:.3}')\n",
        "\n",
        "print('\\nround(a,2) produces ',round(a,2))\n",
        "print('round(b,1) produces ',round(b,1))"
      ]
    },
    {
      "cell_type": "markdown",
      "source": [
        "# Example A.3"
      ],
      "metadata": {
        "id": "emRgBG6wD_Mk"
      }
    },
    {
      "cell_type": "code",
      "source": [
        "%reset -f\n",
        "\n",
        "print('-'*28,'CODE OUTPUT','-'*29,'\\n')\n",
        "\n",
        "a = [2,[3,0],5,[1,1,2],'s',[1,4],2,5] # define list a\n",
        "\n",
        "print('list a=',a)\n",
        "\n",
        "print('the sum of the first and last element is: ',a[0]+a[-1])\n",
        "\n",
        "a[2] = -2\n",
        "print('\\na[2] = -2 modifies list a into \\na =',a,'\\n')\n",
        "\n",
        "print('The a[3][2] element is =', a[3][2],'\\n')\n",
        "print('The a[2:len(a):2] sequence is =',a[2:len(a):2])\n",
        "print('The a[:5] sequence is =',a[:5])\n",
        "\n",
        "print('\\nThe a[1]+a[3] sequence is =',a[1]+a[3])\n",
        "print('The a[1]*3 sequence is =',a[1]*3)\n"
      ],
      "metadata": {
        "colab": {
          "base_uri": "https://localhost:8080/"
        },
        "id": "AdoBkhYVEKYL",
        "outputId": "8d742c58-fef7-441c-cbc6-90b84d3474b8"
      },
      "execution_count": 3,
      "outputs": [
        {
          "output_type": "stream",
          "name": "stdout",
          "text": [
            "---------------------------- CODE OUTPUT ----------------------------- \n",
            "\n",
            "list a= [2, [3, 0], 5, [1, 1, 2], 's', [1, 4], 2, 5]\n",
            "the sum of the first and last element is:  7\n",
            "\n",
            "a[2] = -2 modifies list a into \n",
            "a = [2, [3, 0], -2, [1, 1, 2], 's', [1, 4], 2, 5] \n",
            "\n",
            "The a[3][2] element is = 2 \n",
            "\n",
            "The a[2:len(a):2] sequence is = [-2, 's', 2]\n",
            "The a[:5] sequence is = [2, [3, 0], -2, [1, 1, 2], 's']\n",
            "\n",
            "The a[1]+a[3] sequence is = [3, 0, 1, 1, 2]\n",
            "The a[1]*3 sequence is = [3, 0, 3, 0, 3, 0]\n"
          ]
        }
      ]
    },
    {
      "cell_type": "markdown",
      "source": [
        "# Example A.4"
      ],
      "metadata": {
        "id": "7eRouq2wELKH"
      }
    },
    {
      "cell_type": "code",
      "source": [
        "%reset -f\n",
        "\n",
        "print('-'*28,'CODE OUTPUT','-'*29,'\\n')\n",
        "\n",
        "a = range(1,7,2)\n",
        "print('Define the range sequence a = ',a,'\\n')\n",
        "# print(a) does not print the elements of the range() object\n",
        "\n",
        "# Use list(a) to convert the range into a list, then print elements\n",
        "print('list(a) gives: ',list(a),'\\n')\n",
        "\n",
        "print('The length of the range sequence a is = ',len(a))\n",
        "print('The sum of elements in the range sequence a is = ',sum(a))\n",
        "print('The maximum of the range sequence a is = ',max(a))\n",
        "\n",
        "c, d = [3,'s']                 # unpacking a sequence\n",
        "print(\"\\nUnpack the sequence [3,'s'], to get: c = \",c,'  d = ',d,'\\n')\n",
        "\n",
        "e = [u**3 for u in [1,2,3]]   # a list comprehension\n",
        "print('The list comprehension e = ',e)\n",
        "\n",
        "f = [x%3 for x in range(0,12)]  # another list comprehension\n",
        "print('The list comprehension f = ',f,'\\n')\n"
      ],
      "metadata": {
        "colab": {
          "base_uri": "https://localhost:8080/"
        },
        "id": "9IwDkSqeEP-v",
        "outputId": "72057534-eead-4817-f53d-73909fb54e57"
      },
      "execution_count": 4,
      "outputs": [
        {
          "output_type": "stream",
          "name": "stdout",
          "text": [
            "---------------------------- CODE OUTPUT ----------------------------- \n",
            "\n",
            "Define the range sequence a =  range(1, 7, 2) \n",
            "\n",
            "list(a) gives:  [1, 3, 5] \n",
            "\n",
            "The length of the range sequence a is =  3\n",
            "The sum of elements in the range sequence a is =  9\n",
            "The maximum of the range sequence a is =  5\n",
            "\n",
            "Unpack the sequence [3,'s'], to get: c =  3   d =  s \n",
            "\n",
            "The list comprehension e =  [1, 8, 27]\n",
            "The list comprehension f =  [0, 1, 2, 0, 1, 2, 0, 1, 2, 0, 1, 2] \n",
            "\n"
          ]
        }
      ]
    },
    {
      "cell_type": "markdown",
      "source": [
        "# Example A.5"
      ],
      "metadata": {
        "id": "pXzAit1bEQhH"
      }
    },
    {
      "cell_type": "code",
      "source": [
        "%reset -f\n",
        "\n",
        "print('-'*28,'CODE OUTPUT','-'*29,'\\n')\n",
        "\n",
        "def f(vo,a,t):               # define function f\n",
        "    y = vo*t+a*t**2/2        # functions require indentation\n",
        "    return y                 # return the variable y to the calling code\n",
        "\n",
        "ypos = []                    # create the empty list ypos\n",
        "for t in range(4):           # for loops require indentation\n",
        "    ypos.append(f(1,2,t))    # add the value of f to the list ypos\n",
        "\n",
        "print('position y(t) = ',ypos)"
      ],
      "metadata": {
        "colab": {
          "base_uri": "https://localhost:8080/"
        },
        "id": "uPGVhEdpEkLD",
        "outputId": "d63c5c72-7a67-4101-e75f-06d80438934e"
      },
      "execution_count": 5,
      "outputs": [
        {
          "output_type": "stream",
          "name": "stdout",
          "text": [
            "---------------------------- CODE OUTPUT ----------------------------- \n",
            "\n",
            "position y(t) =  [0.0, 2.0, 6.0, 12.0]\n"
          ]
        }
      ]
    },
    {
      "cell_type": "markdown",
      "source": [
        "# Example A.6"
      ],
      "metadata": {
        "id": "OP7gK8i3Ek7Y"
      }
    },
    {
      "cell_type": "code",
      "source": [
        "%reset -f\n",
        "\n",
        "print('-'*28,'CODE OUTPUT','-'*29,'\\n')\n",
        "\n",
        "vo, a = 1, 2                      # global variables vo, a\n",
        "f = lambda t: vo*t+a*t**2/2       # define lambda function f(t)\n",
        "\n",
        "ypos = []                         # empty list ypos\n",
        "\n",
        "for t in range(4):                # for loops require indentation\n",
        "    ypos.append(f(t))             # add value of f to the list ypos\n",
        "\n",
        "print('position y(t) = ',ypos)"
      ],
      "metadata": {
        "colab": {
          "base_uri": "https://localhost:8080/"
        },
        "id": "7KHCo9L-EmvA",
        "outputId": "26f3d93c-fdf1-4b0e-a507-4f7cc0a694b9"
      },
      "execution_count": 6,
      "outputs": [
        {
          "output_type": "stream",
          "name": "stdout",
          "text": [
            "---------------------------- CODE OUTPUT ----------------------------- \n",
            "\n",
            "position y(t) =  [0.0, 2.0, 6.0, 12.0]\n"
          ]
        }
      ]
    },
    {
      "cell_type": "markdown",
      "source": [
        "# Example A.7"
      ],
      "metadata": {
        "id": "gnJWtYXCEncR"
      }
    },
    {
      "cell_type": "code",
      "source": [
        "%reset -f\n",
        "\n",
        "print('-'*28,'CODE OUTPUT','-'*29,'\\n')\n",
        "\n",
        "vo, a = 1, 2                  # global variables xo, vo, a\n",
        "f = lambda t: vo*t+a*t**2/2   # define lambda function f(t)\n",
        "\n",
        "\n",
        "ypos = []                       # empty list ypos\n",
        "\n",
        "for t in range(4):            # for loops require indentation\n",
        "    if f(t)<7:                # if statements require indentation\n",
        "        ypos.append(f(t))     # if f(t)<7 is true, then add value\n",
        "                              # of f(t) to the list ypos\n",
        "                              # if f(t)>=7, then ignore this statement\n",
        "\n",
        "print('position y(t) = ',ypos)"
      ],
      "metadata": {
        "colab": {
          "base_uri": "https://localhost:8080/"
        },
        "id": "aIIywiWqEpqw",
        "outputId": "9d297cf6-da93-49e4-99ef-18c719479207"
      },
      "execution_count": 7,
      "outputs": [
        {
          "output_type": "stream",
          "name": "stdout",
          "text": [
            "---------------------------- CODE OUTPUT ----------------------------- \n",
            "\n",
            "position y(t) =  [0.0, 2.0, 6.0]\n"
          ]
        }
      ]
    },
    {
      "cell_type": "markdown",
      "source": [
        "# Example A.8"
      ],
      "metadata": {
        "id": "_4AfGolXEqTF"
      }
    },
    {
      "cell_type": "code",
      "source": [
        "%reset -f\n",
        "\n",
        "print('-'*28,'CODE OUTPUT','-'*29,'\\n')\n",
        "\n",
        "import numpy           # method 1: use name.function() syntax\n",
        "print('Using NumPy function, result is: ', numpy.cos(0.5))\n",
        "\n",
        "import numpy as np     # method 2: use alias np, instead of numpy\n",
        "print('Using np shorthand notation, result is: ', np.cos(0.5))\n",
        "\n",
        "from numpy import cos  # method 3: import only function cos() from numpy\n",
        "print('Importing just the NumPy function, result is: ', cos(0.5))\n",
        "\n",
        "from numpy import *    # method 4: import all necessary from numpy\n",
        "print('Importing all NumPy functions, result is: ', cos(0.5))"
      ],
      "metadata": {
        "colab": {
          "base_uri": "https://localhost:8080/"
        },
        "id": "eki9RTzNEr2l",
        "outputId": "3172fc7a-58e3-472a-8e6a-8500df783cb5"
      },
      "execution_count": 8,
      "outputs": [
        {
          "output_type": "stream",
          "name": "stdout",
          "text": [
            "---------------------------- CODE OUTPUT ----------------------------- \n",
            "\n",
            "Using NumPy function, result is:  0.8775825618903728\n",
            "Using np shorthand notation, result is:  0.8775825618903728\n",
            "Importing just the NumPy function, result is:  0.8775825618903728\n",
            "Importing all NumPy functions, result is:  0.8775825618903728\n"
          ]
        }
      ]
    },
    {
      "cell_type": "markdown",
      "source": [
        "# Example A.9"
      ],
      "metadata": {
        "id": "_ZUVDwgqEsiq"
      }
    },
    {
      "cell_type": "code",
      "source": [
        "%reset -f\n",
        "\n",
        "import numpy as np\n",
        "print('-'*28,'CODE OUTPUT','-'*29,'\\n')\n",
        "print('printing the list [1,2,3]:            ',[1,2,3])\n",
        "print('printing the array np.array([1,2,3]): ',np.array([1,2,3]),'\\n')\n",
        "\n",
        "print('np.arange(5) gives: ',np.arange(5))\n",
        "print('np.arange(0,3.5,.5) gives: ',np.arange(0,3.2,.5),'\\n')\n",
        "# array from 0 to 3.5 steps 0.5 (excluding 7)\n",
        "\n",
        "print('np.linspace(0,8,6) gives: ',np.linspace(0,8,6),'\\n')\n",
        "# create array with 6 values between 0 and 8\n",
        "\n",
        "print('array with zeros: ',np.zeros(5))  # generate array with 5 zeros\n",
        "print('array with ones: ',np.ones([2,1]),'\\n')\n",
        "# generate two rows and one column, with ones\n",
        "\n",
        "print('array with random values: ',np.random.random([1,2]))\n",
        "# generate random numbers in one row and two columns, in interval (0,1)\n"
      ],
      "metadata": {
        "colab": {
          "base_uri": "https://localhost:8080/"
        },
        "id": "7dP9nZNnEw9e",
        "outputId": "98c1b855-5a46-4af4-a025-f8875d14900a"
      },
      "execution_count": 9,
      "outputs": [
        {
          "output_type": "stream",
          "name": "stdout",
          "text": [
            "---------------------------- CODE OUTPUT ----------------------------- \n",
            "\n",
            "printing the list [1,2,3]:             [1, 2, 3]\n",
            "printing the array np.array([1,2,3]):  [1 2 3] \n",
            "\n",
            "np.arange(5) gives:  [0 1 2 3 4]\n",
            "np.arange(0,3.5,.5) gives:  [0.  0.5 1.  1.5 2.  2.5 3. ] \n",
            "\n",
            "np.linspace(0,8,6) gives:  [0.  1.6 3.2 4.8 6.4 8. ] \n",
            "\n",
            "array with zeros:  [0. 0. 0. 0. 0.]\n",
            "array with ones:  [[1.]\n",
            " [1.]] \n",
            "\n",
            "array with random values:  [[0.66578197 0.99365872]]\n"
          ]
        }
      ]
    },
    {
      "cell_type": "markdown",
      "source": [
        "# Example A.10"
      ],
      "metadata": {
        "id": "2mRlBF2lExjV"
      }
    },
    {
      "cell_type": "code",
      "source": [
        "%reset -f\n",
        "\n",
        "import numpy as np\n",
        "print('-'*28,'CODE OUTPUT','-'*29,'\\n')\n",
        "\n",
        "a = np.array([1,2,3])\n",
        "b = np.array([4,5,6])\n",
        "M = np.array([[2,4,2],[2,1,1],[3,2,0]])\n",
        "\n",
        "#Part 1\n",
        "print('mean of elements in array a = ',np.mean(a))\n",
        "print('std dev of elements in array a = ',np.std(a))\n",
        "print('max of elements in array a = ',np.max(a))\n",
        "print('sum of elements in array a = ',np.sum(a),'\\n')\n",
        "\n",
        "#Part 2\n",
        "print('a + b = ' , a+b)\n",
        "print('a * b = ', a*b, '\\n')\n",
        "\n",
        "#Part 3\n",
        "print('1 + a**2 = ', 1 + a**2,'\\n')\n",
        "\n",
        "#Part 4\n",
        "print('matrix M =',M,'\\n')\n",
        "print('sum of elements of M along axis=0 (rows) = ',np.sum(M,axis=0))\n",
        "print('sum of elements of M along axis=1 (columns) = ',np.sum(M,axis=1))"
      ],
      "metadata": {
        "colab": {
          "base_uri": "https://localhost:8080/"
        },
        "id": "dffHeJisEz7N",
        "outputId": "90e61bb2-8133-483d-d1f0-934c9cfb1989"
      },
      "execution_count": 10,
      "outputs": [
        {
          "output_type": "stream",
          "name": "stdout",
          "text": [
            "---------------------------- CODE OUTPUT ----------------------------- \n",
            "\n",
            "mean of elements in array a =  2.0\n",
            "std dev of elements in array a =  0.816496580927726\n",
            "max of elements in array a =  3\n",
            "sum of elements in array a =  6 \n",
            "\n",
            "a + b =  [5 7 9]\n",
            "a * b =  [ 4 10 18] \n",
            "\n",
            "1 + a**2 =  [ 2  5 10] \n",
            "\n",
            "matrix M = [[2 4 2]\n",
            " [2 1 1]\n",
            " [3 2 0]] \n",
            "\n",
            "sum of elements of M along axis=0 (rows) =  [7 7 3]\n",
            "sum of elements of M along axis=1 (columns) =  [8 4 5]\n"
          ]
        }
      ]
    },
    {
      "cell_type": "markdown",
      "source": [
        "# Example A.11"
      ],
      "metadata": {
        "id": "a_Pz0kxZE0wL"
      }
    },
    {
      "cell_type": "code",
      "source": [
        "%reset -f\n",
        "\n",
        "import numpy as np\n",
        "print('-'*28,'CODE OUTPUT','-'*29,'\\n')\n",
        "\n",
        "# define 3x3 matrix using NumPy array\n",
        "v = np.array([[1,2,3],[4,5,6],[7,8,9]])\n",
        "\n",
        "print('The third element v[2] = ',v[2],'\\n')\n",
        "\n",
        "print('The element at row index 1 and column index 2=',v[1][2])\n",
        "print('The element v[1,0] = ',v[1,0])\n",
        "print('The last element v[-1,-1] = ',v[-1,-1],'\\n')\n",
        "\n",
        "print('The column with index 0 = ',v[:,0])\n",
        "print('The row with index 2 = ',v[2,:],'\\n')\n"
      ],
      "metadata": {
        "colab": {
          "base_uri": "https://localhost:8080/"
        },
        "id": "4M1ORU8nE3aW",
        "outputId": "8c98cac5-7391-4881-98dc-5d66a1e96a8b"
      },
      "execution_count": 11,
      "outputs": [
        {
          "output_type": "stream",
          "name": "stdout",
          "text": [
            "---------------------------- CODE OUTPUT ----------------------------- \n",
            "\n",
            "The third element v[2] =  [7 8 9] \n",
            "\n",
            "The element at row index 1 and column index 2= 6\n",
            "The element v[1,0] =  4\n",
            "The last element v[-1,-1] =  9 \n",
            "\n",
            "The column with index 0 =  [1 4 7]\n",
            "The row with index 2 =  [7 8 9] \n",
            "\n"
          ]
        }
      ]
    },
    {
      "cell_type": "markdown",
      "source": [
        "# Example A.12"
      ],
      "metadata": {
        "id": "g3HH3iyVE35D"
      }
    },
    {
      "cell_type": "code",
      "source": [
        "%reset -f\n",
        "\n",
        "print('-'*28,'CODE OUTPUT','-'*29,'\\n')\n",
        "import numpy as np\n",
        "import matplotlib.pyplot as plt\n",
        "vo, g = 5, 9.8                 # define values of vo, g\n",
        "\n",
        "t = np.linspace(0,1.03,100)    # create sequence of times\n",
        "y = [vo*u-g*u**2/2 for u in t] # create sequence of positions, plot y(t)\n",
        "\n",
        "plt.plot(t,y)\n",
        "\n",
        "plt.title('Ball thrown straight up')  # add title to plot\n",
        "plt.ylabel('Vertical distance y(t)')  # add labels for x and y axes\n",
        "plt.xlabel('Time t [s]')\n",
        "\n",
        "ymax = max(y)                    # find position ymax\n",
        "tmax = t[np.argmax(y)]           # find time tmax\n",
        "\n",
        "print('Max height reached = ',f'{ymax:.4f}', ' m')\n",
        "print('Time to reach ymax = ',f'{tmax:.4f}',' s')\n",
        "\n",
        "plt.show()"
      ],
      "metadata": {
        "colab": {
          "base_uri": "https://localhost:8080/",
          "height": 544
        },
        "id": "6NfGoibhE5A4",
        "outputId": "2ee8e789-a137-4036-c4c5-4f89d7e09251"
      },
      "execution_count": 12,
      "outputs": [
        {
          "output_type": "stream",
          "name": "stdout",
          "text": [
            "---------------------------- CODE OUTPUT ----------------------------- \n",
            "\n",
            "Max height reached =  1.2755  m\n",
            "Time to reach ymax =  0.5098  s\n"
          ]
        },
        {
          "output_type": "display_data",
          "data": {
            "text/plain": [
              "<Figure size 640x480 with 1 Axes>"
            ],
            "image/png": "[encoded data removed]"
          },
          "metadata": {}
        }
      ]
    },
    {
      "cell_type": "markdown",
      "source": [
        "# Example A.13"
      ],
      "metadata": {
        "id": "5jsdU_hNE8S1"
      }
    },
    {
      "cell_type": "code",
      "source": [
        "%reset -f\n",
        "\n",
        "import numpy as np\n",
        "import matplotlib.pyplot as plt\n",
        "\n",
        "# surface plot for z=3+x+y\n",
        "x = np.arange(-3, 3, 0.6)    # grid of points on x-axis\n",
        "X, Y = np.meshgrid(x, x)     # grid of points on xy-plane\n",
        "Z= 3+X+Y                     # values of z for points on the xy-grid\n",
        "\n",
        "# plot 3D surface using object oriented programming commands\n",
        "# define the objects fig and axes for 3D plotting\n",
        "fig = plt.figure()\n",
        "axes = fig.add_subplot(projection ='3d')\n",
        "\n",
        "# plot 3D surface using wireframe style\n",
        "axes.plot_wireframe(X, Y, Z, color='skyblue')\n",
        "\n",
        "axes.set_xlabel('X')        # labels for x,y,z axes\n",
        "axes.set_ylabel('Y')\n",
        "axes.set_zlabel('Z')\n",
        "\n",
        "axes.text(-2.6,2,6,'z=f(x,y)=3+x+y')  # add text to the plot\n",
        "\n",
        "plt.show()"
      ],
      "metadata": {
        "colab": {
          "base_uri": "https://localhost:8080/",
          "height": 411
        },
        "id": "BIsyZ5w1E9rb",
        "outputId": "13a7d3a3-cb11-428e-dace-d94768a0151d"
      },
      "execution_count": 13,
      "outputs": [
        {
          "output_type": "display_data",
          "data": {
            "text/plain": [
              "<Figure size 640x480 with 1 Axes>"
            ],
            "image/png": "[encoded data removed]"
          },
          "metadata": {}
        }
      ]
    },
    {
      "cell_type": "markdown",
      "source": [
        "# Example A.14"
      ],
      "metadata": {
        "id": "hs6SYN8bE_Ub"
      }
    },
    {
      "cell_type": "code",
      "source": [
        "%reset -f\n",
        "\n",
        "from sympy import  symbols, solve\n",
        "print('-'*28,'CODE OUTPUT','-'*29,'\\n')\n",
        "\n",
        "vo, t,  g = symbols('vo, t,  g ',real=True)   # define variables\n",
        "\n",
        "# solve equation for tmax symbolically using solve() function\n",
        "tmax = solve(vo-g*t,t)[0]\n",
        "print('Time to reach max height=',tmax)\n",
        "\n",
        "y = vo*t-g*t**2/2\n",
        "# substitute tmax in y(t) to find ymax, using method .subs\n",
        "print('Max height reached = ',y.subs(t,tmax))"
      ],
      "metadata": {
        "colab": {
          "base_uri": "https://localhost:8080/"
        },
        "id": "mdccP5y6FAn4",
        "outputId": "03fcb747-fbeb-4e0a-93e1-bf1a17083b54"
      },
      "execution_count": 14,
      "outputs": [
        {
          "output_type": "stream",
          "name": "stdout",
          "text": [
            "---------------------------- CODE OUTPUT ----------------------------- \n",
            "\n",
            "Time to reach max height= vo/g\n",
            "Max height reached =  vo**2/(2*g)\n"
          ]
        }
      ]
    },
    {
      "cell_type": "markdown",
      "source": [
        "# Example A.15"
      ],
      "metadata": {
        "id": "Fg6tk07WFBaF"
      }
    },
    {
      "cell_type": "code",
      "source": [
        "%reset -f\n",
        "\n",
        "import numpy as np\n",
        "from sympy import symbols, sin, diff\n",
        "from sympy.utilities.lambdify import lambdify\n",
        "\n",
        "print('-'*28,'CODE OUTPUT','-'*29,'\\n')\n",
        "\n",
        "a, b, t = symbols('a,b,t',real=True) # define symbols\n",
        "\n",
        "f = a*sin(b*t)\n",
        "deriv = diff( f,t)                   # evaluate symbolic derivarive of f\n",
        "print('Symbolic Derivative v=dy/dt: ',deriv)\n",
        "\n",
        "tims = np.linspace(0,6,5)           # sequence of times tims\n",
        "\n",
        "# substitute a=1 and b=2 in derivative, using .subs method\n",
        "y = lambdify(t,deriv.subs({a:1,b:2}))\n",
        "\n",
        "# print y(t)\n",
        "print('Derivative values = \\n',y(tims))\n",
        "\n"
      ],
      "metadata": {
        "colab": {
          "base_uri": "https://localhost:8080/"
        },
        "id": "X6TiYZAYFEBG",
        "outputId": "b40b3061-d92a-45a4-d0bd-37266069458f"
      },
      "execution_count": 15,
      "outputs": [
        {
          "output_type": "stream",
          "name": "stdout",
          "text": [
            "---------------------------- CODE OUTPUT ----------------------------- \n",
            "\n",
            "Symbolic Derivative v=dy/dt:  a*b*cos(b*t)\n",
            "Derivative values = \n",
            " [ 2.         -1.97998499  1.92034057 -1.82226052  1.68770792]\n"
          ]
        }
      ]
    },
    {
      "cell_type": "markdown",
      "source": [
        "# Example A.16"
      ],
      "metadata": {
        "id": "quSoryV-FEaG"
      }
    },
    {
      "cell_type": "code",
      "source": [
        "%reset -f\n",
        "\n",
        "from sympy import symbols, integrate, cos, sin\n",
        "x = symbols('x')\n",
        "n = symbols('n', positive=True)  # define symbols\n",
        "\n",
        "print('-'*28,'CODE OUTPUT','-'*29,'\\n')\n",
        "print(\"The indefinite cosine integral = \",integrate(x*cos(n*x),x))\n",
        "print(\"The indefinite sine integral = \",integrate(x*sin(n*x),x))"
      ],
      "metadata": {
        "colab": {
          "base_uri": "https://localhost:8080/"
        },
        "id": "xoKUHLbuFGtR",
        "outputId": "99fb20df-339d-454b-837b-7006a557147a"
      },
      "execution_count": 16,
      "outputs": [
        {
          "output_type": "stream",
          "name": "stdout",
          "text": [
            "---------------------------- CODE OUTPUT ----------------------------- \n",
            "\n",
            "The indefinite cosine integral =  x*sin(n*x)/n + cos(n*x)/n**2\n",
            "The indefinite sine integral =  -x*cos(n*x)/n + sin(n*x)/n**2\n"
          ]
        }
      ]
    },
    {
      "cell_type": "markdown",
      "source": [
        "# Example A.17"
      ],
      "metadata": {
        "id": "Z52AHiV6FHGo"
      }
    },
    {
      "cell_type": "code",
      "source": [
        "%reset -f\n",
        "\n",
        "from sympy import Symbol, symbols, Function, dsolve, diff\n",
        "\n",
        "print('-'*28,'CODE OUTPUT','-'*29,'\\n')\n",
        "\n",
        "# define symbols and the function v\n",
        "v = Function('v')\n",
        "t = Symbol('t', real=True, positive=True)\n",
        "a, v0 = symbols('a, v0', real=True)\n",
        "\n",
        "# initial conditions for the ODE\n",
        "initconds = {v(0):v0}\n",
        "\n",
        "# use dsolve to obtain solution of ODE   dv/dt=a\n",
        "solution = dsolve(diff(v(t),t)-a*t,v(t),ics=initconds).rhs\n",
        "\n",
        "print('The solution is   v(t) = ',solution)\n"
      ],
      "metadata": {
        "colab": {
          "base_uri": "https://localhost:8080/"
        },
        "id": "No8KlMJrFJNJ",
        "outputId": "8ec957ef-f990-477f-c8cc-50ea933c3301"
      },
      "execution_count": 17,
      "outputs": [
        {
          "output_type": "stream",
          "name": "stdout",
          "text": [
            "---------------------------- CODE OUTPUT ----------------------------- \n",
            "\n",
            "The solution is   v(t) =  a*t**2/2 + v0\n"
          ]
        }
      ]
    },
    {
      "cell_type": "markdown",
      "source": [
        "# Example A.18"
      ],
      "metadata": {
        "id": "VTSL5Fg_FJqV"
      }
    },
    {
      "cell_type": "code",
      "source": [
        "%reset -f\n",
        "\n",
        "import numpy as np\n",
        "from scipy.integrate import odeint\n",
        "import matplotlib.pyplot as plt\n",
        "\n",
        "# initial condition v(0)=1, and acceleration a =9.8 m/s^2\n",
        "v0 = 1\n",
        "a = 2\n",
        "\n",
        "# define function velderiv to be called by odeint\n",
        "def velderiv(v,t):\n",
        "    dvdt = a*t\n",
        "    return dvdt\n",
        "\n",
        "# times at which to evaluate the numerical solution\n",
        "times = np.linspace(0,3,30)\n",
        "\n",
        "# solve the ODE with initial v(0)=v0\n",
        "velocity = odeint(velderiv,v0,times)\n",
        "\n",
        "# plot v(t) and label the axes\n",
        "plt.plot(times,velocity)\n",
        "plt.ylabel('v(t), m/s')\n",
        "plt.xlabel('Time, s')\n",
        "plt.show()\n",
        "\n",
        "\n",
        "\n"
      ],
      "metadata": {
        "colab": {
          "base_uri": "https://localhost:8080/",
          "height": 449
        },
        "id": "sLh21mX3FrVv",
        "outputId": "5471b5e7-04ea-46b1-b40d-dd11f058c363"
      },
      "execution_count": 18,
      "outputs": [
        {
          "output_type": "display_data",
          "data": {
            "text/plain": [
              "<Figure size 640x480 with 1 Axes>"
            ],
            "image/png": "[encoded data removed]"
          },
          "metadata": {}
        }
      ]
    }
  ]
}