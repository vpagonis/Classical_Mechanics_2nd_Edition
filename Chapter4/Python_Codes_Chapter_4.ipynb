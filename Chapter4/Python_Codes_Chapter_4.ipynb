{
  "nbformat": 4,
  "nbformat_minor": 0,
  "metadata": {
    "colab": {
      "provenance": [],
      "authorship_tag": "ABX9TyNKLKJIHesJtkjJzkomv1eM",
      "include_colab_link": true
    },
    "kernelspec": {
      "name": "python3",
      "display_name": "Python 3"
    },
    "language_info": {
      "name": "python"
    }
  },
  "cells": [
    {
      "cell_type": "markdown",
      "metadata": {
        "id": "view-in-github",
        "colab_type": "text"
      },
      "source": [
        "<a href=\"https://colab.research.google.com/github/vpagonis/Classical_Mechanics_2nd_Edition/blob/main/Chapter4/Python_Codes_Chapter_4.ipynb\" target=\"_parent\"><img src=\"https://colab.research.google.com/assets/colab-badge.svg\" alt=\"Open In Colab\"/></a>"
      ]
    },
    {
      "cell_type": "markdown",
      "source": [
        "# Example 4.2"
      ],
      "metadata": {
        "id": "BQt9_ASgU8ef"
      }
    },
    {
      "cell_type": "code",
      "source": [
        "%reset -f\n",
        "\n",
        "import numpy as np\n",
        "from scipy.optimize import fsolve\n",
        "\n",
        "print('-'*28,'CODE OUTPUT','-'*29,'\\n')\n",
        "\n",
        "m1, m2, v0, theta = 0.1, 0.2, 10, np.pi/6\n",
        "\n",
        "# we use initial guess values of [v1,v2,phi]=[10,0,1]\n",
        "\n",
        "def f(x):\n",
        "    #let x[0] = v1, x[1] = v2, x[3] = phi\n",
        "    return [m1*v0 - m1*x[0]*np.cos(theta) - m2*x[1]*np.cos(x[2]),\n",
        "    m1*x[0]*np.sin(theta) - m2*x[1]*np.sin(x[2]),\n",
        "    0.5*m1*v0**2 - 0.5*m1*x[0]**2 - 0.5*m2*x[1]**2]\n",
        "\n",
        "roots = fsolve(f,[10,0,1])\n",
        "\n",
        "print('v1 = ', roots[0])\n",
        "print('v2 = ', roots[1])\n",
        "print('phi = ', roots[2])\n"
      ],
      "metadata": {
        "colab": {
          "base_uri": "https://localhost:8080/"
        },
        "id": "JmO1YxKNU-E8",
        "outputId": "f998fcaa-1f14-4ecf-adb3-9349e5e26d70"
      },
      "execution_count": null,
      "outputs": [
        {
          "output_type": "stream",
          "name": "stdout",
          "text": [
            "---------------------------- CODE OUTPUT ----------------------------- \n",
            "\n",
            "v1 =  9.34172358964264\n",
            "v2 =  2.5231131936226365\n",
            "phi =  1.182656811357155\n"
          ]
        }
      ]
    },
    {
      "cell_type": "markdown",
      "source": [
        "# Example 4.4"
      ],
      "metadata": {
        "id": "sSQFf8LDVBnA"
      }
    },
    {
      "cell_type": "code",
      "source": [
        "%reset -f\n",
        "\n",
        "from sympy import symbols, integrate, sqrt\n",
        "\n",
        "print('-'*28,'CODE OUTPUT','-'*29,'\\n')\n",
        "\n",
        "x, y, a, sigma = symbols('x, y, a, sigma',real=True)\n",
        "\n",
        "Y_fcn = y*sigma     # Y component of CM\n",
        "M_fcn = sigma       # mass\n",
        "\n",
        "Y_int = integrate(Y_fcn,  (x, y - a/sqrt(2), a/sqrt(2) - y), \\\n",
        "     (y,0,a/sqrt(2)))    # vary y first\n",
        "\n",
        "M = integrate(M_fcn, (x, y - a/sqrt(2), a/sqrt(2) - y), \\\n",
        "     (y,0,a/sqrt(2)))\n",
        "\n",
        "print('The mass = ', M)\n",
        "print('The CM is located at y = ',Y_int/M)\n"
      ],
      "metadata": {
        "colab": {
          "base_uri": "https://localhost:8080/"
        },
        "id": "k2nWUEJfVQ7R",
        "outputId": "bcd8d72b-e0aa-4d32-dad4-79c3192e8b2a"
      },
      "execution_count": null,
      "outputs": [
        {
          "output_type": "stream",
          "name": "stdout",
          "text": [
            "---------------------------- CODE OUTPUT ----------------------------- \n",
            "\n",
            "The mass =  a**2*sigma/2\n",
            "The CM is located at y =  sqrt(2)*a/6\n"
          ]
        }
      ]
    },
    {
      "cell_type": "markdown",
      "source": [
        "# Example 4.5"
      ],
      "metadata": {
        "id": "o2Zu1HfyVRWK"
      }
    },
    {
      "cell_type": "code",
      "source": [
        "%reset -f\n",
        "\n",
        "from sympy import symbols, integrate, sqrt, pi\n",
        "\n",
        "print('-'*28,'CODE OUTPUT','-'*29,'\\n')\n",
        "\n",
        "r, theta, z , rho, h, a = symbols('r,theta,z,rho,h,a', real=True)\n",
        "\n",
        "Z_fcn = z*rho*r     # Y component of CM\n",
        "M_fcn = rho*r       # mass\n",
        "\n",
        "Z_int = integrate(Z_fcn, (r, 0, a*z/h), \\\n",
        "     (theta,0,2*pi), (z,0,h))    # vary y first\n",
        "\n",
        "M = integrate(M_fcn, (r, 0, a*z/h), \\\n",
        "     (theta,0,2*pi), (z,0,h))\n",
        "\n",
        "print('The mass = ', M)\n",
        "print('The CM is located at z = ', Z_int/M)\n"
      ],
      "metadata": {
        "colab": {
          "base_uri": "https://localhost:8080/"
        },
        "id": "ad-YsGW2VT39",
        "outputId": "628ae4cc-0022-41f1-ccdf-c48cf51cbf5b"
      },
      "execution_count": null,
      "outputs": [
        {
          "output_type": "stream",
          "name": "stdout",
          "text": [
            "---------------------------- CODE OUTPUT ----------------------------- \n",
            "\n",
            "The mass =  pi*a**2*h*rho/3\n",
            "The CM is located at z =  3*h/4\n"
          ]
        }
      ]
    },
    {
      "cell_type": "markdown",
      "source": [
        "# Example 4.6"
      ],
      "metadata": {
        "id": "EfNYWSjKVUMg"
      }
    },
    {
      "cell_type": "code",
      "source": [
        "%reset -f\n",
        "\n",
        "from scipy import integrate\n",
        "import numpy as np\n",
        "\n",
        "print('-'*28,'CODE OUTPUT','-'*29,'\\n')\n",
        "\n",
        "a = 1.0\n",
        "\n",
        "def sigma(x,y):\n",
        "    return 2.0*y\n",
        "\n",
        "def fx(x,y):\n",
        "    return x*sigma(x,y)\n",
        "\n",
        "def fy(x,y):\n",
        "    return y*sigma(x,y)\n",
        "\n",
        "def y_bounds():\n",
        "    return [0,1/np.sqrt(2.0)]\n",
        "\n",
        "def x_bounds(y):\n",
        "    return [y-1/np.sqrt(2.0),1/np.sqrt(2.0)-y]\n",
        "\n",
        "Y = integrate.nquad(fy,[x_bounds,y_bounds])[0]\n",
        "X = integrate.nquad(fx,[x_bounds,y_bounds])[0]\n",
        "mass  = integrate.nquad(sigma,[x_bounds,y_bounds])[0]\n",
        "\n",
        "print('The x-coordinate is: '+str(X/mass))\n",
        "print('The y-coordinate is: '+str(Y/mass))\n"
      ],
      "metadata": {
        "colab": {
          "base_uri": "https://localhost:8080/"
        },
        "id": "rzt5C8RBVVbh",
        "outputId": "23d8f0c1-6e00-47ad-a47a-cacad4f48de3"
      },
      "execution_count": null,
      "outputs": [
        {
          "output_type": "stream",
          "name": "stdout",
          "text": [
            "---------------------------- CODE OUTPUT ----------------------------- \n",
            "\n",
            "The x-coordinate is: 0.0\n",
            "The y-coordinate is: 0.35355339059327384\n"
          ]
        }
      ]
    },
    {
      "cell_type": "markdown",
      "source": [
        "# Example 4.8"
      ],
      "metadata": {
        "id": "gKNILPDzVbkM"
      }
    },
    {
      "cell_type": "code",
      "source": [
        "%reset -f\n",
        "\n",
        "import numpy as np\n",
        "\n",
        "print('-'*28,'CODE OUTPUT','-'*29,'\\n')\n",
        "\n",
        "m1, m2 = 1, 1\n",
        "\n",
        "r1 = np.array([3,2,0])\n",
        "r2 = np.array([-3,2,0])\n",
        "v1 = np.array([2,0,0])\n",
        "v2 = np.array([0,-2,0])\n",
        "\n",
        "l1 = m1*np.cross(r1,v1)\n",
        "l2 = m2*np.cross(r2,v2)\n",
        "\n",
        "print('l1 = ', l1)\n",
        "print('l2 = ', l2)\n",
        "print('L = ', l1 + l2)\n"
      ],
      "metadata": {
        "colab": {
          "base_uri": "https://localhost:8080/"
        },
        "id": "ZaSc8lXcWRmF",
        "outputId": "8cdc3c2e-f800-490c-a667-33b65905926d"
      },
      "execution_count": null,
      "outputs": [
        {
          "output_type": "stream",
          "name": "stdout",
          "text": [
            "---------------------------- CODE OUTPUT ----------------------------- \n",
            "\n",
            "l1 =  [ 0  0 -4]\n",
            "l2 =  [0 0 6]\n",
            "L =  [0 0 2]\n"
          ]
        }
      ]
    }
  ]
}