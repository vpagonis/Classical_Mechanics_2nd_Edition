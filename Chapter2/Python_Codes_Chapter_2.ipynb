{
  "nbformat": 4,
  "nbformat_minor": 0,
  "metadata": {
    "colab": {
      "provenance": [],
      "authorship_tag": "ABX9TyOg2KmKAUoo+ANPDfpi4iVA",
      "include_colab_link": true
    },
    "kernelspec": {
      "name": "python3",
      "display_name": "Python 3"
    },
    "language_info": {
      "name": "python"
    }
  },
  "cells": [
    {
      "cell_type": "markdown",
      "metadata": {
        "id": "view-in-github",
        "colab_type": "text"
      },
      "source": [
        "<a href=\"https://colab.research.google.com/github/vpagonis/Classical_Mechanics_2nd_Edition/blob/main/Chapter2/Python_Codes_Chapter_2.ipynb\" target=\"_parent\"><img src=\"https://colab.research.google.com/assets/colab-badge.svg\" alt=\"Open In Colab\"/></a>"
      ]
    },
    {
      "cell_type": "markdown",
      "source": [
        "# Example 2.1"
      ],
      "metadata": {
        "id": "5MEcwMcx2LZQ"
      }
    },
    {
      "cell_type": "code",
      "execution_count": 23,
      "metadata": {
        "colab": {
          "base_uri": "https://localhost:8080/"
        },
        "id": "_JqOtii82FGn",
        "outputId": "60ec89c2-dc98-44ba-c3c2-6c7434d75730"
      },
      "outputs": [
        {
          "output_type": "stream",
          "name": "stdout",
          "text": [
            "---------------------------- CODE OUTPUT ----------------------------- \n",
            "\n",
            "a =  (-g*m1 + g*m2)/(m1 + m2)\n",
            "T =  2*g*m1*m2/(m1 + m2)\n"
          ]
        }
      ],
      "source": [
        "%reset -f\n",
        "\n",
        "from sympy import symbols, solve\n",
        "\n",
        "print('-'*28,'CODE OUTPUT','-'*29,'\\n')\n",
        "\n",
        "m1, m2, a, g, T = symbols('m1,m2,a,g,T')\n",
        "\n",
        "eq_1 = m1*g - T + m1*a\n",
        "eq_2 = m2*g - T - m2*a\n",
        "\n",
        "soln = solve((eq_1,eq_2),(a,T)) #solution to system of equations\n",
        "\n",
        "print('a = ', soln[a])\n",
        "print('T = ', soln[T])"
      ]
    },
    {
      "cell_type": "markdown",
      "source": [
        "# Example 2.2"
      ],
      "metadata": {
        "id": "ULtLQIn62Psa"
      }
    },
    {
      "cell_type": "code",
      "source": [
        "%reset -f\n",
        "\n",
        "from sympy import symbols, dsolve, Function, diff, sin, cos\n",
        "import matplotlib.pyplot as plt\n",
        "import numpy as np\n",
        "\n",
        "print('-'*28,'CODE OUTPUT','-'*29,'\\n')\n",
        "\n",
        "g, theta, mu, x0, v0, t = symbols('g, theta, mu, x0, v0, t',real=True)\n",
        "x = Function('x')                       # define position function x\n",
        "\n",
        "a = g*sin(theta)-mu*g*cos(theta)      # define acceleration a\n",
        "\n",
        "# initial conditions x(0)=x0 and v(0)=v0\n",
        "initconds = {x(0):x0, diff(x(t),t).subs(t, 0): v0}\n",
        "\n",
        "# use dsolve to solve the ODE x''(t)=a\n",
        "solnx = dsolve(diff(x(t),t,t)-a,x(t), ics=initconds).rhs\n",
        "\n",
        "solnv = diff(solnx,t)                   # evaluate v = dx/dt\n",
        "print(' x(t) = ', solnx)                # print x(t)\n",
        "\n",
        "print('\\nv(t) = ',solnv)                # print v(t)\n",
        "\n"
      ],
      "metadata": {
        "colab": {
          "base_uri": "https://localhost:8080/"
        },
        "id": "l_o0uGye2Rya",
        "outputId": "23e8b1cf-de15-4fc6-d8f0-3adf954b9225"
      },
      "execution_count": 24,
      "outputs": [
        {
          "output_type": "stream",
          "name": "stdout",
          "text": [
            "---------------------------- CODE OUTPUT ----------------------------- \n",
            "\n",
            " x(t) =  g*t**2*(-mu*cos(theta) + sin(theta))/2 + t*v0 + x0\n",
            "\n",
            "v(t) =  g*t*(-mu*cos(theta) + sin(theta)) + v0\n"
          ]
        }
      ]
    },
    {
      "cell_type": "markdown",
      "source": [
        "# Example 2.3"
      ],
      "metadata": {
        "id": "pg9ddEr_2T07"
      }
    },
    {
      "cell_type": "code",
      "source": [
        "%reset -f\n",
        "\n",
        "from sympy import symbols, dsolve, Function, diff, simplify, lambdify\n",
        "import textwrap\n",
        "import numpy as np\n",
        "import matplotlib.pyplot as plt\n",
        "print('-'*28,'CODE OUTPUT','-'*29,'\\n')\n",
        "\n",
        "m, c, b, t, x0 = symbols('m, c, b, t, x0',real=True)\n",
        "x = Function('x')\n",
        "\n",
        "initconds = {x(0):x0, diff(x(t),t).subs(t, 0): 0}\n",
        "solnx = dsolve(m*diff(x(t),t,t)-c/(t**2+b**2),x(t), \\\n",
        "    ics=initconds).rhs\n",
        "\n",
        "solnv = diff(solnx,t)                            # v = dx/dt\n",
        "print(' x(t) = ', textwrap.fill(str(solnx),70))  # print x(t)\n",
        "print('\\nv(t) = ',simplify(solnv))               # print v(t)\n",
        "\n",
        "xt = solnx.subs({c:1,m:1,x0:0,b:1})     # substitute values of constants\n",
        "vt = solnv.subs({c:1,m:1,x0:0,b:1})     # substitute values of constants\n",
        "\n",
        "position = lambdify(t,xt,'numpy')\n",
        "velocity = lambdify(t, vt,'numpy')\n",
        "times = np.linspace(0,10,20)            # times t=0-10\n",
        "\n",
        "fig, ax = plt.subplots(nrows=1,ncols=2) # use 2 subplots for x(t),v(t)\n",
        "ax[0].plot(times, position(times))\n",
        "ax[0].set_xlabel('time')\n",
        "ax[0].set_ylabel('position')\n",
        "ax[1].plot(times, velocity(times))\n",
        "ax[1].set_xlabel('time')\n",
        "ax[1].set_ylabel('velocity')\n",
        "fig.tight_layout()\n"
      ],
      "metadata": {
        "colab": {
          "base_uri": "https://localhost:8080/",
          "height": 595
        },
        "id": "VXTmZwCJ2W30",
        "outputId": "a3774130-0fdf-40eb-fc51-439082d77bd5"
      },
      "execution_count": 25,
      "outputs": [
        {
          "output_type": "stream",
          "name": "stdout",
          "text": [
            "---------------------------- CODE OUTPUT ----------------------------- \n",
            "\n",
            " x(t) =  -c*log(b**2 + t**2)/(2*m) + (c*log(b**2) + 2*m*x0)/(2*m) +\n",
            "c*t*atan(t/b)/(b*m)\n",
            "\n",
            "v(t) =  c*atan(t/b)/(b*m)\n"
          ]
        },
        {
          "output_type": "display_data",
          "data": {
            "text/plain": [
              "<Figure size 640x480 with 2 Axes>"
            ],
            "image/png": "[encoded data removed]"
          },
          "metadata": {}
        }
      ]
    },
    {
      "cell_type": "markdown",
      "source": [
        "# Example 2.4"
      ],
      "metadata": {
        "id": "Kugg90Yo2ZNT"
      }
    },
    {
      "cell_type": "code",
      "source": [
        "%reset -f\n",
        "\n",
        "from sympy import symbols, dsolve, Function, diff,simplify, oo\n",
        "print('-'*28,'CODE OUTPUT','-'*29,'\\n')\n",
        "\n",
        "t, x0, v0 = symbols(' t, x0, v0')\n",
        "m, b = symbols('m, b', positive=True)\n",
        "x = Function('x')\n",
        "\n",
        "inits = {x(0):x0, diff(x(t),t).subs(t, 0): v0}\n",
        "solnx = dsolve(m*diff(x(t),t,t)+b*diff(x(t),t),x(t),ics=inits).rhs\n",
        "\n",
        "print(' x(t) = ', simplify(solnx))      # print x(t)\n",
        "solnv = diff(solnx,t)                   # v = dx/dt\n",
        "\n",
        "print('\\nv(t) = ',simplify(solnv))      # print v(t)\n",
        "print('The limit of v(t) at large time t = ',solnv.limit(t,oo))\n",
        "print('The limit of x(t) at large time t = ',solnx.limit(t,oo))\n"
      ],
      "metadata": {
        "colab": {
          "base_uri": "https://localhost:8080/"
        },
        "id": "lpQvlp222dO9",
        "outputId": "18fc1609-562a-4869-d229-29bdf398afc8"
      },
      "execution_count": 26,
      "outputs": [
        {
          "output_type": "stream",
          "name": "stdout",
          "text": [
            "---------------------------- CODE OUTPUT ----------------------------- \n",
            "\n",
            " x(t) =  x0 + m*v0/b - m*v0*exp(-b*t/m)/b\n",
            "\n",
            "v(t) =  v0*exp(-b*t/m)\n",
            "The limit of v(t) at large time t =  0\n",
            "The limit of x(t) at large time t =  (b*x0 + m*v0)/b\n"
          ]
        }
      ]
    },
    {
      "cell_type": "markdown",
      "source": [
        "# Example 2.6"
      ],
      "metadata": {
        "id": "JKeAi91X2jMz"
      }
    },
    {
      "cell_type": "code",
      "source": [
        "%reset -f\n",
        "\n",
        "from sympy import symbols, integrate,logcombine,solve,cosh, sinh,log\n",
        "print('-'*28,'CODE OUTPUT','-'*29,'\\n')\n",
        "\n",
        "v, vf, vt, t1, m, c, t= symbols('v, vf, vt, t1, m, c, t',\\\n",
        " real=True,positive=True)\n",
        "\n",
        "# evaluate integral after factoring\n",
        "integral = integrate(1/(v-vt),(v,0,vf))- integrate(1/(v+vt),(v,0,vf))\n",
        "\n",
        "# combine logarithmic terms from inetgration\n",
        "result = logcombine(integral,force=True)*(m/c)/(2*vt)\n",
        "print('t = ',result )\n",
        "\n",
        "v = solve(t+result,vf)[0]    # invert equation to find speed v(t)\n",
        "print('v(t) = ',v)\n",
        "\n",
        "# integrate to find x(t)\n",
        "x = integrate(vt*sinh(c*t*vt/m)/cosh(c*t*vt/m),(t,0,t1))\n",
        "print('x(t) = ',x)\n",
        "\n"
      ],
      "metadata": {
        "colab": {
          "base_uri": "https://localhost:8080/"
        },
        "id": "EDh5BenP2mVP",
        "outputId": "722843ce-da5a-483b-c976-650a0e97870f"
      },
      "execution_count": 27,
      "outputs": [
        {
          "output_type": "stream",
          "name": "stdout",
          "text": [
            "---------------------------- CODE OUTPUT ----------------------------- \n",
            "\n",
            "t =  m*log(-(vf - vt)/(vf + vt))/(2*c*vt)\n",
            "v(t) =  vt*tanh(c*t*vt/m)\n",
            "x(t) =  m*log(cosh(c*t1*vt/m))/c\n"
          ]
        }
      ]
    },
    {
      "cell_type": "markdown",
      "source": [
        "# Example 2.7"
      ],
      "metadata": {
        "id": "vHwzXjFe2npn"
      }
    },
    {
      "cell_type": "code",
      "source": [
        "%reset -f\n",
        "\n",
        "from sympy import diff as D\n",
        "from sympy import symbols, Function, dsolve\n",
        "\n",
        "print('-'*28,'CODE OUTPUT','-'*29,'\\n')\n",
        "\n",
        "x = Function('x')\n",
        "t, x0, v0 = symbols('t, x0, v0',real=True)\n",
        "k, m = symbols('k, m',real=True, positive=True)\n",
        "\n",
        "# initial conditions\n",
        "init = {x(0):x0,D(x(t),t).subs(t,0):v0}\n",
        "\n",
        "#use dsolve to find solution of ODE\n",
        "soln = dsolve(m*D(x(t),t,t) + k*x(t), simplify=True, ics=init).rhs\n",
        "\n",
        "# substitute v(0)=0 using .subs\n",
        "print('The solution is x(t) = ', soln.subs(v0,0))\n",
        "\n"
      ],
      "metadata": {
        "colab": {
          "base_uri": "https://localhost:8080/"
        },
        "id": "pS7wY8xF2pgR",
        "outputId": "b25c1a97-714e-4297-d5b2-b168409be419"
      },
      "execution_count": 28,
      "outputs": [
        {
          "output_type": "stream",
          "name": "stdout",
          "text": [
            "---------------------------- CODE OUTPUT ----------------------------- \n",
            "\n",
            "The solution is x(t) =  x0*cos(sqrt(k)*t/sqrt(m))\n"
          ]
        }
      ]
    },
    {
      "cell_type": "markdown",
      "source": [
        "# Example 2.8"
      ],
      "metadata": {
        "id": "qO7_6jlN22V4"
      }
    },
    {
      "cell_type": "code",
      "source": [
        "%reset -f\n",
        "\n",
        "import matplotlib.pyplot as plt\n",
        "import numpy as np\n",
        "\n",
        "dt, t_max = 0.05, 1       #step size, maximum time\n",
        "num_steps = int(t_max/dt) #number of Euler steps\n",
        "m, g, c = 3.0, 9.8, 2.0   #parameters and coefficients\n",
        "\n",
        "times = np.arange(0,t_max + dt,dt) # times for x(t), v(t)\n",
        "\n",
        "def f(v):                 #define the acceleration function\n",
        "    return (g - c/m*v**3)\n",
        "\n",
        "x = np.zeros(num_steps+1) #define x,v arrays\n",
        "v = np.zeros(num_steps+1)\n",
        "x[0], v[0] = 0 ,0               # initial conditions\n",
        "\n",
        "for i in range(1,num_steps+1):\n",
        "    x[i] = x[i-1] + v[i-1] * dt\n",
        "    v[i] = v[i-1] + f(v[i-1]) * dt\n",
        "\n",
        "fig, ax = plt.subplots(nrows=1, ncols=2)\n",
        "ax[0].plot(times,x)\n",
        "ax[0].set_xlabel(\"time\")\n",
        "ax[0].set_ylabel(\"x(t)\")\n",
        "ax[1].plot(times,v)\n",
        "ax[1].set_xlabel(\"time\")\n",
        "ax[1].set_ylabel(\"v(t)\")\n",
        "fig.tight_layout()\n",
        "\n"
      ],
      "metadata": {
        "colab": {
          "base_uri": "https://localhost:8080/",
          "height": 487
        },
        "id": "0tRtbp-x25wK",
        "outputId": "9cc91c8f-df2f-453c-c383-2fa6115ae63a"
      },
      "execution_count": 29,
      "outputs": [
        {
          "output_type": "display_data",
          "data": {
            "text/plain": [
              "<Figure size 640x480 with 2 Axes>"
            ],
            "image/png": "[encoded data removed]"
          },
          "metadata": {}
        }
      ]
    },
    {
      "cell_type": "markdown",
      "source": [
        "# Example 2.9"
      ],
      "metadata": {
        "id": "2BR1TJ1p26uf"
      }
    },
    {
      "cell_type": "code",
      "source": [
        "%reset -f\n",
        "\n",
        "from scipy.integrate import odeint\n",
        "import numpy as np\n",
        "import matplotlib.pyplot as plt\n",
        "\n",
        "m, g, c = 3.0, 9.8, 2.0   #parameters and coefficients\n",
        "\n",
        "#define function that returns coupled ODEs\n",
        "def deriv(y, time):\n",
        "    return (y[1], g - c/m*y[1]**3)\n",
        "\n",
        "t = np.linspace(0,1,20)      # time values\n",
        "yinit = (0,0)              #initial conditionss\n",
        "\n",
        "soln = odeint(deriv, yinit, t)  #solve the system of ODEs using odeint\n",
        "\n",
        "fig, ax = plt.subplots(nrows=1, ncols=2)\n",
        "ax[0].plot(t,soln[:,0])     #plot position\n",
        "ax[0].set_xlabel(\"time\")\n",
        "ax[0].set_ylabel(\"x(t)\")\n",
        "ax[1].plot(t,soln[:,1])     #plot time\n",
        "ax[1].set_xlabel(\"time\")\n",
        "ax[1].set_ylabel(\"v(t)\")\n",
        "fig.tight_layout()\n",
        "\n"
      ],
      "metadata": {
        "colab": {
          "base_uri": "https://localhost:8080/",
          "height": 487
        },
        "id": "06d5xQ1W28i9",
        "outputId": "7d75d9fd-e633-4f27-a52a-10c7ea94f35e"
      },
      "execution_count": 30,
      "outputs": [
        {
          "output_type": "display_data",
          "data": {
            "text/plain": [
              "<Figure size 640x480 with 2 Axes>"
            ],
            "image/png": "[encoded data removed]"
          },
          "metadata": {}
        }
      ]
    },
    {
      "cell_type": "markdown",
      "source": [
        "# Example 2.10"
      ],
      "metadata": {
        "id": "jZT1kJ3B2-9H"
      }
    },
    {
      "cell_type": "code",
      "source": [
        "%reset -f\n",
        "\n",
        "from scipy.integrate import quad\n",
        "import numpy as np\n",
        "\n",
        "print('-'*28,'CODE OUTPUT','-'*29,'\\n')\n",
        "\n",
        "a0, omega, phi = 0.3, 1.5, np.pi/3\n",
        "\n",
        "F = lambda t: a0*np.sin(omega * t + phi)**2\n",
        "\n",
        "integral = quad(F,0,3)\n",
        "\n",
        "print('The integral = ', integral[0])\n",
        "print('The absolute error =', integral[1])\n",
        "\n"
      ],
      "metadata": {
        "colab": {
          "base_uri": "https://localhost:8080/"
        },
        "id": "8Fy3LoF63BH_",
        "outputId": "96118d78-eb08-4173-a574-2dd8b369aacc"
      },
      "execution_count": 31,
      "outputs": [
        {
          "output_type": "stream",
          "name": "stdout",
          "text": [
            "---------------------------- CODE OUTPUT ----------------------------- \n",
            "\n",
            "The integral =  0.5430573299677108\n",
            "The absolute error = 1.974040231812555e-14\n"
          ]
        }
      ]
    },
    {
      "cell_type": "markdown",
      "source": [
        "# Example 2.11"
      ],
      "metadata": {
        "id": "hvuq4lFn3Cbn"
      }
    },
    {
      "cell_type": "code",
      "source": [
        "%reset -f\n",
        "\n",
        "import numpy as np\n",
        "from sympy import integrate, pi, sin, symbols\n",
        "t = symbols('t')\n",
        "\n",
        "print('-'*28,'CODE OUTPUT','-'*29,'\\n')\n",
        "\n",
        "a0, omega, phi = 0.3, 1.5, np.pi/3\n",
        "\n",
        "a, b = 0, 3  #lower and upper limit of integration\n",
        "\n",
        "def F(t):\n",
        "    return a0*np.sin(omega*t + phi)**2\n",
        "\n",
        "N = 1000     #number of steps\n",
        "\n",
        "extended = 0 # parameter stores the result of integration\n",
        "\n",
        "h = (b-a)/(N-1) #need N steps starting at an index of 0\n",
        "\n",
        "for i in range(0,N):\n",
        "    x = a + i*h\n",
        "    if i==0 or i==(N-1):\n",
        "        extended += h*F(x)/3.0\n",
        "    elif i%2 == 0:\n",
        "        extended += 2.0*h*F(x)/3.0\n",
        "    else:\n",
        "        extended += 4.0*h*F(x)/3.0\n",
        "\n",
        "#exact answer obtained using integrate in SymPy\n",
        "exact = integrate(a0*sin(omega*t + phi)**2,(t,0,3))\n",
        "\n",
        "print('The extended Simpson result = ', extended)\n",
        "print('The exact result = ',exact.subs({t:3}))\n",
        "\n"
      ],
      "metadata": {
        "colab": {
          "base_uri": "https://localhost:8080/"
        },
        "id": "guvMk2KE3FgO",
        "outputId": "87847694-7e10-49a6-f4d1-c853d375925a"
      },
      "execution_count": 32,
      "outputs": [
        {
          "output_type": "stream",
          "name": "stdout",
          "text": [
            "---------------------------- CODE OUTPUT ----------------------------- \n",
            "\n",
            "The extended Simpson result =  0.5429213205860004\n",
            "The exact result =  0.543057329967711\n"
          ]
        }
      ]
    }
  ]
}